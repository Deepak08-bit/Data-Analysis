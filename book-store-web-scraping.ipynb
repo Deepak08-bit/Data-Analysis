{
 "cells": [
  {
   "cell_type": "code",
   "execution_count": 1,
   "id": "3caf1619",
   "metadata": {
    "_cell_guid": "b1076dfc-b9ad-4769-8c92-a6c4dae69d19",
    "_uuid": "8f2839f25d086af736a60e9eeb907d3b93b6e0e5",
    "execution": {
     "iopub.execute_input": "2022-11-13T10:41:33.161983Z",
     "iopub.status.busy": "2022-11-13T10:41:33.160321Z",
     "iopub.status.idle": "2022-11-13T10:41:33.176558Z",
     "shell.execute_reply": "2022-11-13T10:41:33.175285Z"
    },
    "papermill": {
     "duration": 0.030424,
     "end_time": "2022-11-13T10:41:33.179708",
     "exception": false,
     "start_time": "2022-11-13T10:41:33.149284",
     "status": "completed"
    },
    "tags": []
   },
   "outputs": [],
   "source": [
    "# This Python 3 environment comes with many helpful analytics libraries installed\n",
    "# It is defined by the kaggle/python Docker image: https://github.com/kaggle/docker-python\n",
    "# For example, here's several helpful packages to load\n",
    "\n",
    "import numpy as np # linear algebra\n",
    "import pandas as pd # data processing, CSV file I/O (e.g. pd.read_csv)\n",
    "\n",
    "# Input data files are available in the read-only \"../input/\" directory\n",
    "# For example, running this (by clicking run or pressing Shift+Enter) will list all files under the input directory\n",
    "\n",
    "import os\n",
    "for dirname, _, filenames in os.walk('/kaggle/input'):\n",
    "    for filename in filenames:\n",
    "        print(os.path.join(dirname, filename))\n",
    "\n",
    "# You can write up to 20GB to the current directory (/kaggle/working/) that gets preserved as output when you create a version using \"Save & Run All\" \n",
    "# You can also write temporary files to /kaggle/temp/, but they won't be saved outside of the current session"
   ]
  },
  {
   "cell_type": "code",
   "execution_count": 2,
   "id": "1f05e901",
   "metadata": {
    "execution": {
     "iopub.execute_input": "2022-11-13T10:41:33.196463Z",
     "iopub.status.busy": "2022-11-13T10:41:33.196019Z",
     "iopub.status.idle": "2022-11-13T10:42:00.990137Z",
     "shell.execute_reply": "2022-11-13T10:42:00.988567Z"
    },
    "papermill": {
     "duration": 27.805928,
     "end_time": "2022-11-13T10:42:00.993172",
     "exception": false,
     "start_time": "2022-11-13T10:41:33.187244",
     "status": "completed"
    },
    "tags": []
   },
   "outputs": [
    {
     "name": "stdout",
     "output_type": "stream",
     "text": [
      "Collecting bs4\r\n",
      "  Downloading bs4-0.0.1.tar.gz (1.1 kB)\r\n",
      "  Preparing metadata (setup.py) ... \u001b[?25l-\b \bdone\r\n",
      "\u001b[?25hRequirement already satisfied: beautifulsoup4 in /opt/conda/lib/python3.7/site-packages (from bs4) (4.11.1)\r\n",
      "Requirement already satisfied: soupsieve>1.2 in /opt/conda/lib/python3.7/site-packages (from beautifulsoup4->bs4) (2.3.1)\r\n",
      "Building wheels for collected packages: bs4\r\n",
      "  Building wheel for bs4 (setup.py) ... \u001b[?25l-\b \b\\\b \bdone\r\n",
      "\u001b[?25h  Created wheel for bs4: filename=bs4-0.0.1-py3-none-any.whl size=1272 sha256=f395749a895074779f20301ec895ae27df9db3e9eb79e13e1f7a33e1ecedb98b\r\n",
      "  Stored in directory: /root/.cache/pip/wheels/0a/9e/ba/20e5bbc1afef3a491f0b3bb74d508f99403aabe76eda2167ca\r\n",
      "Successfully built bs4\r\n",
      "Installing collected packages: bs4\r\n",
      "Successfully installed bs4-0.0.1\r\n",
      "\u001b[33mWARNING: Running pip as the 'root' user can result in broken permissions and conflicting behaviour with the system package manager. It is recommended to use a virtual environment instead: https://pip.pypa.io/warnings/venv\u001b[0m\u001b[33m\r\n",
      "\u001b[0mRequirement already satisfied: requests in /opt/conda/lib/python3.7/site-packages (2.28.1)\r\n",
      "Requirement already satisfied: certifi>=2017.4.17 in /opt/conda/lib/python3.7/site-packages (from requests) (2022.9.24)\r\n",
      "Requirement already satisfied: urllib3<1.27,>=1.21.1 in /opt/conda/lib/python3.7/site-packages (from requests) (1.26.12)\r\n",
      "Requirement already satisfied: charset-normalizer<3,>=2 in /opt/conda/lib/python3.7/site-packages (from requests) (2.1.0)\r\n",
      "Requirement already satisfied: idna<4,>=2.5 in /opt/conda/lib/python3.7/site-packages (from requests) (3.3)\r\n",
      "\u001b[33mWARNING: Running pip as the 'root' user can result in broken permissions and conflicting behaviour with the system package manager. It is recommended to use a virtual environment instead: https://pip.pypa.io/warnings/venv\u001b[0m\u001b[33m\r\n",
      "\u001b[0m"
     ]
    }
   ],
   "source": [
    "!pip install bs4\n",
    "!pip install requests"
   ]
  },
  {
   "cell_type": "code",
   "execution_count": 3,
   "id": "5ed9277f",
   "metadata": {
    "execution": {
     "iopub.execute_input": "2022-11-13T10:42:01.013400Z",
     "iopub.status.busy": "2022-11-13T10:42:01.012401Z",
     "iopub.status.idle": "2022-11-13T10:42:01.239354Z",
     "shell.execute_reply": "2022-11-13T10:42:01.237802Z"
    },
    "papermill": {
     "duration": 0.240595,
     "end_time": "2022-11-13T10:42:01.242547",
     "exception": false,
     "start_time": "2022-11-13T10:42:01.001952",
     "status": "completed"
    },
    "tags": []
   },
   "outputs": [],
   "source": [
    "import requests\n",
    "import bs4\n",
    "import pandas as pd\n"
   ]
  },
  {
   "cell_type": "code",
   "execution_count": 4,
   "id": "11fa8dec",
   "metadata": {
    "execution": {
     "iopub.execute_input": "2022-11-13T10:42:01.261657Z",
     "iopub.status.busy": "2022-11-13T10:42:01.261155Z",
     "iopub.status.idle": "2022-11-13T10:42:01.268002Z",
     "shell.execute_reply": "2022-11-13T10:42:01.266356Z"
    },
    "papermill": {
     "duration": 0.019784,
     "end_time": "2022-11-13T10:42:01.270894",
     "exception": false,
     "start_time": "2022-11-13T10:42:01.251110",
     "status": "completed"
    },
    "tags": []
   },
   "outputs": [],
   "source": [
    "pages=[]\n",
    "prices=[]\n",
    "titles=[]\n",
    "ratings=[]\n",
    "urls=[]"
   ]
  },
  {
   "cell_type": "code",
   "execution_count": 5,
   "id": "9d0e4ea5",
   "metadata": {
    "execution": {
     "iopub.execute_input": "2022-11-13T10:42:01.289888Z",
     "iopub.status.busy": "2022-11-13T10:42:01.289437Z",
     "iopub.status.idle": "2022-11-13T10:42:01.773539Z",
     "shell.execute_reply": "2022-11-13T10:42:01.771993Z"
    },
    "papermill": {
     "duration": 0.497178,
     "end_time": "2022-11-13T10:42:01.776644",
     "exception": false,
     "start_time": "2022-11-13T10:42:01.279466",
     "status": "completed"
    },
    "tags": []
   },
   "outputs": [],
   "source": [
    "df=requests.get('https://books.toscrape.com/')"
   ]
  },
  {
   "cell_type": "code",
   "execution_count": 6,
   "id": "3a517169",
   "metadata": {
    "execution": {
     "iopub.execute_input": "2022-11-13T10:42:01.797618Z",
     "iopub.status.busy": "2022-11-13T10:42:01.797206Z",
     "iopub.status.idle": "2022-11-13T10:42:01.830925Z",
     "shell.execute_reply": "2022-11-13T10:42:01.829594Z"
    },
    "papermill": {
     "duration": 0.047074,
     "end_time": "2022-11-13T10:42:01.834198",
     "exception": false,
     "start_time": "2022-11-13T10:42:01.787124",
     "status": "completed"
    },
    "tags": []
   },
   "outputs": [],
   "source": [
    "bsp=bs4.BeautifulSoup(df.text,'html')"
   ]
  },
  {
   "cell_type": "code",
   "execution_count": 7,
   "id": "4127f327",
   "metadata": {
    "execution": {
     "iopub.execute_input": "2022-11-13T10:42:01.853016Z",
     "iopub.status.busy": "2022-11-13T10:42:01.852570Z",
     "iopub.status.idle": "2022-11-13T10:42:01.859851Z",
     "shell.execute_reply": "2022-11-13T10:42:01.858374Z"
    },
    "papermill": {
     "duration": 0.019531,
     "end_time": "2022-11-13T10:42:01.862218",
     "exception": false,
     "start_time": "2022-11-13T10:42:01.842687",
     "status": "completed"
    },
    "tags": []
   },
   "outputs": [],
   "source": [
    "for t in bsp.findAll('h3'):\n",
    "    titless=t.getText()\n",
    "    titles.append(titless)"
   ]
  },
  {
   "cell_type": "code",
   "execution_count": 8,
   "id": "914c377b",
   "metadata": {
    "execution": {
     "iopub.execute_input": "2022-11-13T10:42:01.880625Z",
     "iopub.status.busy": "2022-11-13T10:42:01.880171Z",
     "iopub.status.idle": "2022-11-13T10:42:01.886645Z",
     "shell.execute_reply": "2022-11-13T10:42:01.885054Z"
    },
    "papermill": {
     "duration": 0.018762,
     "end_time": "2022-11-13T10:42:01.889289",
     "exception": false,
     "start_time": "2022-11-13T10:42:01.870527",
     "status": "completed"
    },
    "tags": []
   },
   "outputs": [
    {
     "name": "stdout",
     "output_type": "stream",
     "text": [
      "['A Light in the ...', 'Tipping the Velvet', 'Soumission', 'Sharp Objects', 'Sapiens: A Brief History ...', 'The Requiem Red', 'The Dirty Little Secrets ...', 'The Coming Woman: A ...', 'The Boys in the ...', 'The Black Maria', 'Starving Hearts (Triangular Trade ...', \"Shakespeare's Sonnets\", 'Set Me Free', \"Scott Pilgrim's Precious Little ...\", 'Rip it Up and ...', 'Our Band Could Be ...', 'Olio', 'Mesaerion: The Best Science ...', 'Libertarianism for Beginners', \"It's Only the Himalayas\"]\n"
     ]
    }
   ],
   "source": [
    "print(titles)"
   ]
  },
  {
   "cell_type": "code",
   "execution_count": 9,
   "id": "40a625bb",
   "metadata": {
    "execution": {
     "iopub.execute_input": "2022-11-13T10:42:01.907862Z",
     "iopub.status.busy": "2022-11-13T10:42:01.907476Z",
     "iopub.status.idle": "2022-11-13T10:42:01.916435Z",
     "shell.execute_reply": "2022-11-13T10:42:01.914896Z"
    },
    "papermill": {
     "duration": 0.02154,
     "end_time": "2022-11-13T10:42:01.919106",
     "exception": false,
     "start_time": "2022-11-13T10:42:01.897566",
     "status": "completed"
    },
    "tags": []
   },
   "outputs": [],
   "source": [
    "for p in bsp.find_all('p', class_='price_color'): #the 'p' tag is in the 'price color' class. NB. Make sure to add underscore to class (class_) in order to differentiate it from python inbuilt class\n",
    "    price=p.getText()\n",
    "    prices.append(price)\n"
   ]
  },
  {
   "cell_type": "code",
   "execution_count": 10,
   "id": "24c78f20",
   "metadata": {
    "execution": {
     "iopub.execute_input": "2022-11-13T10:42:01.937618Z",
     "iopub.status.busy": "2022-11-13T10:42:01.937168Z",
     "iopub.status.idle": "2022-11-13T10:42:01.943173Z",
     "shell.execute_reply": "2022-11-13T10:42:01.941748Z"
    },
    "papermill": {
     "duration": 0.018416,
     "end_time": "2022-11-13T10:42:01.945797",
     "exception": false,
     "start_time": "2022-11-13T10:42:01.927381",
     "status": "completed"
    },
    "tags": []
   },
   "outputs": [
    {
     "name": "stdout",
     "output_type": "stream",
     "text": [
      "['Â£51.77', 'Â£53.74', 'Â£50.10', 'Â£47.82', 'Â£54.23', 'Â£22.65', 'Â£33.34', 'Â£17.93', 'Â£22.60', 'Â£52.15', 'Â£13.99', 'Â£20.66', 'Â£17.46', 'Â£52.29', 'Â£35.02', 'Â£57.25', 'Â£23.88', 'Â£37.59', 'Â£51.33', 'Â£45.17']\n"
     ]
    }
   ],
   "source": [
    "print(prices)\n"
   ]
  },
  {
   "cell_type": "code",
   "execution_count": 11,
   "id": "31c8a584",
   "metadata": {
    "execution": {
     "iopub.execute_input": "2022-11-13T10:42:01.964087Z",
     "iopub.status.busy": "2022-11-13T10:42:01.963592Z",
     "iopub.status.idle": "2022-11-13T10:42:01.972965Z",
     "shell.execute_reply": "2022-11-13T10:42:01.971568Z"
    },
    "papermill": {
     "duration": 0.021381,
     "end_time": "2022-11-13T10:42:01.975188",
     "exception": false,
     "start_time": "2022-11-13T10:42:01.953807",
     "status": "completed"
    },
    "tags": []
   },
   "outputs": [],
   "source": [
    "for r in bsp.find_all('p',class_='star-rating'):\n",
    "    for k,v in r.attrs.items(): \n",
    "        star=v[1]\n",
    "        ratings.append(star)\n",
    "       \n",
    "        \n"
   ]
  },
  {
   "cell_type": "code",
   "execution_count": 12,
   "id": "4b471126",
   "metadata": {
    "execution": {
     "iopub.execute_input": "2022-11-13T10:42:01.993365Z",
     "iopub.status.busy": "2022-11-13T10:42:01.992847Z",
     "iopub.status.idle": "2022-11-13T10:42:01.999415Z",
     "shell.execute_reply": "2022-11-13T10:42:01.997806Z"
    },
    "papermill": {
     "duration": 0.019264,
     "end_time": "2022-11-13T10:42:02.002377",
     "exception": false,
     "start_time": "2022-11-13T10:42:01.983113",
     "status": "completed"
    },
    "tags": []
   },
   "outputs": [
    {
     "name": "stdout",
     "output_type": "stream",
     "text": [
      "['Three', 'One', 'One', 'Four', 'Five', 'One', 'Four', 'Three', 'Four', 'One', 'Two', 'Four', 'Five', 'Five', 'Five', 'Three', 'One', 'One', 'Two', 'Two']\n"
     ]
    }
   ],
   "source": [
    "print(ratings)\n"
   ]
  },
  {
   "cell_type": "markdown",
   "id": "841f67c1",
   "metadata": {
    "execution": {
     "iopub.execute_input": "2022-11-13T08:33:04.653721Z",
     "iopub.status.busy": "2022-11-13T08:33:04.653243Z",
     "iopub.status.idle": "2022-11-13T08:33:04.658805Z",
     "shell.execute_reply": "2022-11-13T08:33:04.657784Z",
     "shell.execute_reply.started": "2022-11-13T08:33:04.653677Z"
    },
    "papermill": {
     "duration": 0.00816,
     "end_time": "2022-11-13T10:42:02.018880",
     "exception": false,
     "start_time": "2022-11-13T10:42:02.010720",
     "status": "completed"
    },
    "tags": []
   },
   "source": [
    "## IMAGE URLS"
   ]
  },
  {
   "cell_type": "code",
   "execution_count": 13,
   "id": "755e83b4",
   "metadata": {
    "execution": {
     "iopub.execute_input": "2022-11-13T10:42:02.036782Z",
     "iopub.status.busy": "2022-11-13T10:42:02.036292Z",
     "iopub.status.idle": "2022-11-13T10:42:02.047436Z",
     "shell.execute_reply": "2022-11-13T10:42:02.045935Z"
    },
    "papermill": {
     "duration": 0.023602,
     "end_time": "2022-11-13T10:42:02.050423",
     "exception": false,
     "start_time": "2022-11-13T10:42:02.026821",
     "status": "completed"
    },
    "tags": []
   },
   "outputs": [],
   "source": [
    "divs=bsp.find_all('div',class_='image_container') \n",
    "for thumbs in divs:\n",
    "    tagss=thumbs.find('img',class_='thumbnail')\n",
    "    links='http://books.toscrape.com/' + str(tagss['src'])\n",
    "    newlinks=links.replace('..','') \n",
    "    urls.append(newlinks)\n",
    "    "
   ]
  },
  {
   "cell_type": "code",
   "execution_count": 14,
   "id": "12adbb2f",
   "metadata": {
    "collapsed": true,
    "execution": {
     "iopub.execute_input": "2022-11-13T10:42:02.070258Z",
     "iopub.status.busy": "2022-11-13T10:42:02.069571Z",
     "iopub.status.idle": "2022-11-13T10:42:02.082461Z",
     "shell.execute_reply": "2022-11-13T10:42:02.080979Z"
    },
    "jupyter": {
     "outputs_hidden": true
    },
    "papermill": {
     "duration": 0.025829,
     "end_time": "2022-11-13T10:42:02.085015",
     "exception": false,
     "start_time": "2022-11-13T10:42:02.059186",
     "status": "completed"
    },
    "tags": []
   },
   "outputs": [
    {
     "data": {
      "text/plain": [
       "[<div class=\"image_container\">\n",
       " <a href=\"catalogue/a-light-in-the-attic_1000/index.html\"><img alt=\"A Light in the Attic\" class=\"thumbnail\" src=\"media/cache/2c/da/2cdad67c44b002e7ead0cc35693c0e8b.jpg\"/></a>\n",
       " </div>,\n",
       " <div class=\"image_container\">\n",
       " <a href=\"catalogue/tipping-the-velvet_999/index.html\"><img alt=\"Tipping the Velvet\" class=\"thumbnail\" src=\"media/cache/26/0c/260c6ae16bce31c8f8c95daddd9f4a1c.jpg\"/></a>\n",
       " </div>,\n",
       " <div class=\"image_container\">\n",
       " <a href=\"catalogue/soumission_998/index.html\"><img alt=\"Soumission\" class=\"thumbnail\" src=\"media/cache/3e/ef/3eef99c9d9adef34639f510662022830.jpg\"/></a>\n",
       " </div>,\n",
       " <div class=\"image_container\">\n",
       " <a href=\"catalogue/sharp-objects_997/index.html\"><img alt=\"Sharp Objects\" class=\"thumbnail\" src=\"media/cache/32/51/3251cf3a3412f53f339e42cac2134093.jpg\"/></a>\n",
       " </div>,\n",
       " <div class=\"image_container\">\n",
       " <a href=\"catalogue/sapiens-a-brief-history-of-humankind_996/index.html\"><img alt=\"Sapiens: A Brief History of Humankind\" class=\"thumbnail\" src=\"media/cache/be/a5/bea5697f2534a2f86a3ef27b5a8c12a6.jpg\"/></a>\n",
       " </div>,\n",
       " <div class=\"image_container\">\n",
       " <a href=\"catalogue/the-requiem-red_995/index.html\"><img alt=\"The Requiem Red\" class=\"thumbnail\" src=\"media/cache/68/33/68339b4c9bc034267e1da611ab3b34f8.jpg\"/></a>\n",
       " </div>,\n",
       " <div class=\"image_container\">\n",
       " <a href=\"catalogue/the-dirty-little-secrets-of-getting-your-dream-job_994/index.html\"><img alt=\"The Dirty Little Secrets of Getting Your Dream Job\" class=\"thumbnail\" src=\"media/cache/92/27/92274a95b7c251fea59a2b8a78275ab4.jpg\"/></a>\n",
       " </div>,\n",
       " <div class=\"image_container\">\n",
       " <a href=\"catalogue/the-coming-woman-a-novel-based-on-the-life-of-the-infamous-feminist-victoria-woodhull_993/index.html\"><img alt=\"The Coming Woman: A Novel Based on the Life of the Infamous Feminist, Victoria Woodhull\" class=\"thumbnail\" src=\"media/cache/3d/54/3d54940e57e662c4dd1f3ff00c78cc64.jpg\"/></a>\n",
       " </div>,\n",
       " <div class=\"image_container\">\n",
       " <a href=\"catalogue/the-boys-in-the-boat-nine-americans-and-their-epic-quest-for-gold-at-the-1936-berlin-olympics_992/index.html\"><img alt=\"The Boys in the Boat: Nine Americans and Their Epic Quest for Gold at the 1936 Berlin Olympics\" class=\"thumbnail\" src=\"media/cache/66/88/66883b91f6804b2323c8369331cb7dd1.jpg\"/></a>\n",
       " </div>,\n",
       " <div class=\"image_container\">\n",
       " <a href=\"catalogue/the-black-maria_991/index.html\"><img alt=\"The Black Maria\" class=\"thumbnail\" src=\"media/cache/58/46/5846057e28022268153beff6d352b06c.jpg\"/></a>\n",
       " </div>,\n",
       " <div class=\"image_container\">\n",
       " <a href=\"catalogue/starving-hearts-triangular-trade-trilogy-1_990/index.html\"><img alt=\"Starving Hearts (Triangular Trade Trilogy, #1)\" class=\"thumbnail\" src=\"media/cache/be/f4/bef44da28c98f905a3ebec0b87be8530.jpg\"/></a>\n",
       " </div>,\n",
       " <div class=\"image_container\">\n",
       " <a href=\"catalogue/shakespeares-sonnets_989/index.html\"><img alt=\"Shakespeare's Sonnets\" class=\"thumbnail\" src=\"media/cache/10/48/1048f63d3b5061cd2f424d20b3f9b666.jpg\"/></a>\n",
       " </div>,\n",
       " <div class=\"image_container\">\n",
       " <a href=\"catalogue/set-me-free_988/index.html\"><img alt=\"Set Me Free\" class=\"thumbnail\" src=\"media/cache/5b/88/5b88c52633f53cacf162c15f4f823153.jpg\"/></a>\n",
       " </div>,\n",
       " <div class=\"image_container\">\n",
       " <a href=\"catalogue/scott-pilgrims-precious-little-life-scott-pilgrim-1_987/index.html\"><img alt=\"Scott Pilgrim's Precious Little Life (Scott Pilgrim #1)\" class=\"thumbnail\" src=\"media/cache/94/b1/94b1b8b244bce9677c2f29ccc890d4d2.jpg\"/></a>\n",
       " </div>,\n",
       " <div class=\"image_container\">\n",
       " <a href=\"catalogue/rip-it-up-and-start-again_986/index.html\"><img alt=\"Rip it Up and Start Again\" class=\"thumbnail\" src=\"media/cache/81/c4/81c4a973364e17d01f217e1188253d5e.jpg\"/></a>\n",
       " </div>,\n",
       " <div class=\"image_container\">\n",
       " <a href=\"catalogue/our-band-could-be-your-life-scenes-from-the-american-indie-underground-1981-1991_985/index.html\"><img alt=\"Our Band Could Be Your Life: Scenes from the American Indie Underground, 1981-1991\" class=\"thumbnail\" src=\"media/cache/54/60/54607fe8945897cdcced0044103b10b6.jpg\"/></a>\n",
       " </div>,\n",
       " <div class=\"image_container\">\n",
       " <a href=\"catalogue/olio_984/index.html\"><img alt=\"Olio\" class=\"thumbnail\" src=\"media/cache/55/33/553310a7162dfbc2c6d19a84da0df9e1.jpg\"/></a>\n",
       " </div>,\n",
       " <div class=\"image_container\">\n",
       " <a href=\"catalogue/mesaerion-the-best-science-fiction-stories-1800-1849_983/index.html\"><img alt=\"Mesaerion: The Best Science Fiction Stories 1800-1849\" class=\"thumbnail\" src=\"media/cache/09/a3/09a3aef48557576e1a85ba7efea8ecb7.jpg\"/></a>\n",
       " </div>,\n",
       " <div class=\"image_container\">\n",
       " <a href=\"catalogue/libertarianism-for-beginners_982/index.html\"><img alt=\"Libertarianism for Beginners\" class=\"thumbnail\" src=\"media/cache/0b/bc/0bbcd0a6f4bcd81ccb1049a52736406e.jpg\"/></a>\n",
       " </div>,\n",
       " <div class=\"image_container\">\n",
       " <a href=\"catalogue/its-only-the-himalayas_981/index.html\"><img alt=\"It's Only the Himalayas\" class=\"thumbnail\" src=\"media/cache/27/a5/27a53d0bb95bdd88288eaf66c9230d7e.jpg\"/></a>\n",
       " </div>]"
      ]
     },
     "execution_count": 14,
     "metadata": {},
     "output_type": "execute_result"
    }
   ],
   "source": [
    "\n",
    "divs"
   ]
  },
  {
   "cell_type": "code",
   "execution_count": 15,
   "id": "86487602",
   "metadata": {
    "collapsed": true,
    "execution": {
     "iopub.execute_input": "2022-11-13T10:42:02.106697Z",
     "iopub.status.busy": "2022-11-13T10:42:02.105681Z",
     "iopub.status.idle": "2022-11-13T10:42:02.112799Z",
     "shell.execute_reply": "2022-11-13T10:42:02.111516Z"
    },
    "jupyter": {
     "outputs_hidden": true
    },
    "papermill": {
     "duration": 0.020834,
     "end_time": "2022-11-13T10:42:02.115016",
     "exception": false,
     "start_time": "2022-11-13T10:42:02.094182",
     "status": "completed"
    },
    "tags": []
   },
   "outputs": [
    {
     "data": {
      "text/plain": [
       "['http://books.toscrape.com/media/cache/2c/da/2cdad67c44b002e7ead0cc35693c0e8b.jpg',\n",
       " 'http://books.toscrape.com/media/cache/26/0c/260c6ae16bce31c8f8c95daddd9f4a1c.jpg',\n",
       " 'http://books.toscrape.com/media/cache/3e/ef/3eef99c9d9adef34639f510662022830.jpg',\n",
       " 'http://books.toscrape.com/media/cache/32/51/3251cf3a3412f53f339e42cac2134093.jpg',\n",
       " 'http://books.toscrape.com/media/cache/be/a5/bea5697f2534a2f86a3ef27b5a8c12a6.jpg',\n",
       " 'http://books.toscrape.com/media/cache/68/33/68339b4c9bc034267e1da611ab3b34f8.jpg',\n",
       " 'http://books.toscrape.com/media/cache/92/27/92274a95b7c251fea59a2b8a78275ab4.jpg',\n",
       " 'http://books.toscrape.com/media/cache/3d/54/3d54940e57e662c4dd1f3ff00c78cc64.jpg',\n",
       " 'http://books.toscrape.com/media/cache/66/88/66883b91f6804b2323c8369331cb7dd1.jpg',\n",
       " 'http://books.toscrape.com/media/cache/58/46/5846057e28022268153beff6d352b06c.jpg',\n",
       " 'http://books.toscrape.com/media/cache/be/f4/bef44da28c98f905a3ebec0b87be8530.jpg',\n",
       " 'http://books.toscrape.com/media/cache/10/48/1048f63d3b5061cd2f424d20b3f9b666.jpg',\n",
       " 'http://books.toscrape.com/media/cache/5b/88/5b88c52633f53cacf162c15f4f823153.jpg',\n",
       " 'http://books.toscrape.com/media/cache/94/b1/94b1b8b244bce9677c2f29ccc890d4d2.jpg',\n",
       " 'http://books.toscrape.com/media/cache/81/c4/81c4a973364e17d01f217e1188253d5e.jpg',\n",
       " 'http://books.toscrape.com/media/cache/54/60/54607fe8945897cdcced0044103b10b6.jpg',\n",
       " 'http://books.toscrape.com/media/cache/55/33/553310a7162dfbc2c6d19a84da0df9e1.jpg',\n",
       " 'http://books.toscrape.com/media/cache/09/a3/09a3aef48557576e1a85ba7efea8ecb7.jpg',\n",
       " 'http://books.toscrape.com/media/cache/0b/bc/0bbcd0a6f4bcd81ccb1049a52736406e.jpg',\n",
       " 'http://books.toscrape.com/media/cache/27/a5/27a53d0bb95bdd88288eaf66c9230d7e.jpg']"
      ]
     },
     "execution_count": 15,
     "metadata": {},
     "output_type": "execute_result"
    }
   ],
   "source": [
    "urls"
   ]
  },
  {
   "cell_type": "code",
   "execution_count": 16,
   "id": "a8783989",
   "metadata": {
    "execution": {
     "iopub.execute_input": "2022-11-13T10:42:02.135336Z",
     "iopub.status.busy": "2022-11-13T10:42:02.134594Z",
     "iopub.status.idle": "2022-11-13T10:42:02.140609Z",
     "shell.execute_reply": "2022-11-13T10:42:02.139397Z"
    },
    "papermill": {
     "duration": 0.018938,
     "end_time": "2022-11-13T10:42:02.143044",
     "exception": false,
     "start_time": "2022-11-13T10:42:02.124106",
     "status": "completed"
    },
    "tags": []
   },
   "outputs": [
    {
     "data": {
      "text/plain": [
       "'http://books.toscrape.com/media/cache/27/a5/27a53d0bb95bdd88288eaf66c9230d7e.jpg'"
      ]
     },
     "execution_count": 16,
     "metadata": {},
     "output_type": "execute_result"
    }
   ],
   "source": [
    "newlinks"
   ]
  },
  {
   "cell_type": "code",
   "execution_count": 17,
   "id": "2fffb4f9",
   "metadata": {
    "execution": {
     "iopub.execute_input": "2022-11-13T10:42:02.164011Z",
     "iopub.status.busy": "2022-11-13T10:42:02.163303Z",
     "iopub.status.idle": "2022-11-13T10:42:02.168472Z",
     "shell.execute_reply": "2022-11-13T10:42:02.167391Z"
    },
    "papermill": {
     "duration": 0.018901,
     "end_time": "2022-11-13T10:42:02.171619",
     "exception": false,
     "start_time": "2022-11-13T10:42:02.152718",
     "status": "completed"
    },
    "tags": []
   },
   "outputs": [],
   "source": [
    "web_data={'Title':titles,'Price':prices,'Ratings':ratings,'URL':urls}"
   ]
  },
  {
   "cell_type": "code",
   "execution_count": 18,
   "id": "aeadc0e1",
   "metadata": {
    "execution": {
     "iopub.execute_input": "2022-11-13T10:42:02.191687Z",
     "iopub.status.busy": "2022-11-13T10:42:02.191069Z",
     "iopub.status.idle": "2022-11-13T10:42:02.198292Z",
     "shell.execute_reply": "2022-11-13T10:42:02.196526Z"
    },
    "papermill": {
     "duration": 0.020648,
     "end_time": "2022-11-13T10:42:02.201400",
     "exception": false,
     "start_time": "2022-11-13T10:42:02.180752",
     "status": "completed"
    },
    "tags": []
   },
   "outputs": [
    {
     "name": "stdout",
     "output_type": "stream",
     "text": [
      "20\n",
      "20\n",
      "20\n",
      "20\n"
     ]
    }
   ],
   "source": [
    "print(len(titles))\n",
    "print(len(urls))\n",
    "print(len(prices))\n",
    "print(len(ratings))"
   ]
  },
  {
   "cell_type": "code",
   "execution_count": 19,
   "id": "30acb85a",
   "metadata": {
    "execution": {
     "iopub.execute_input": "2022-11-13T10:42:02.222158Z",
     "iopub.status.busy": "2022-11-13T10:42:02.220789Z",
     "iopub.status.idle": "2022-11-13T10:42:02.233571Z",
     "shell.execute_reply": "2022-11-13T10:42:02.232136Z"
    },
    "papermill": {
     "duration": 0.02621,
     "end_time": "2022-11-13T10:42:02.236575",
     "exception": false,
     "start_time": "2022-11-13T10:42:02.210365",
     "status": "completed"
    },
    "tags": []
   },
   "outputs": [],
   "source": [
    "df=pd.DataFrame(web_data)"
   ]
  },
  {
   "cell_type": "code",
   "execution_count": 20,
   "id": "a1f2d304",
   "metadata": {
    "execution": {
     "iopub.execute_input": "2022-11-13T10:42:02.257667Z",
     "iopub.status.busy": "2022-11-13T10:42:02.256806Z",
     "iopub.status.idle": "2022-11-13T10:42:02.282137Z",
     "shell.execute_reply": "2022-11-13T10:42:02.280806Z"
    },
    "papermill": {
     "duration": 0.038991,
     "end_time": "2022-11-13T10:42:02.284860",
     "exception": false,
     "start_time": "2022-11-13T10:42:02.245869",
     "status": "completed"
    },
    "tags": []
   },
   "outputs": [
    {
     "data": {
      "text/html": [
       "<div>\n",
       "<style scoped>\n",
       "    .dataframe tbody tr th:only-of-type {\n",
       "        vertical-align: middle;\n",
       "    }\n",
       "\n",
       "    .dataframe tbody tr th {\n",
       "        vertical-align: top;\n",
       "    }\n",
       "\n",
       "    .dataframe thead th {\n",
       "        text-align: right;\n",
       "    }\n",
       "</style>\n",
       "<table border=\"1\" class=\"dataframe\">\n",
       "  <thead>\n",
       "    <tr style=\"text-align: right;\">\n",
       "      <th></th>\n",
       "      <th>Title</th>\n",
       "      <th>Price</th>\n",
       "      <th>Ratings</th>\n",
       "      <th>URL</th>\n",
       "    </tr>\n",
       "  </thead>\n",
       "  <tbody>\n",
       "    <tr>\n",
       "      <th>1</th>\n",
       "      <td>A Light in the ...</td>\n",
       "      <td>Â£51.77</td>\n",
       "      <td>Three</td>\n",
       "      <td>http://books.toscrape.com/media/cache/2c/da/2c...</td>\n",
       "    </tr>\n",
       "    <tr>\n",
       "      <th>2</th>\n",
       "      <td>Tipping the Velvet</td>\n",
       "      <td>Â£53.74</td>\n",
       "      <td>One</td>\n",
       "      <td>http://books.toscrape.com/media/cache/26/0c/26...</td>\n",
       "    </tr>\n",
       "    <tr>\n",
       "      <th>3</th>\n",
       "      <td>Soumission</td>\n",
       "      <td>Â£50.10</td>\n",
       "      <td>One</td>\n",
       "      <td>http://books.toscrape.com/media/cache/3e/ef/3e...</td>\n",
       "    </tr>\n",
       "    <tr>\n",
       "      <th>4</th>\n",
       "      <td>Sharp Objects</td>\n",
       "      <td>Â£47.82</td>\n",
       "      <td>Four</td>\n",
       "      <td>http://books.toscrape.com/media/cache/32/51/32...</td>\n",
       "    </tr>\n",
       "    <tr>\n",
       "      <th>5</th>\n",
       "      <td>Sapiens: A Brief History ...</td>\n",
       "      <td>Â£54.23</td>\n",
       "      <td>Five</td>\n",
       "      <td>http://books.toscrape.com/media/cache/be/a5/be...</td>\n",
       "    </tr>\n",
       "    <tr>\n",
       "      <th>6</th>\n",
       "      <td>The Requiem Red</td>\n",
       "      <td>Â£22.65</td>\n",
       "      <td>One</td>\n",
       "      <td>http://books.toscrape.com/media/cache/68/33/68...</td>\n",
       "    </tr>\n",
       "    <tr>\n",
       "      <th>7</th>\n",
       "      <td>The Dirty Little Secrets ...</td>\n",
       "      <td>Â£33.34</td>\n",
       "      <td>Four</td>\n",
       "      <td>http://books.toscrape.com/media/cache/92/27/92...</td>\n",
       "    </tr>\n",
       "    <tr>\n",
       "      <th>8</th>\n",
       "      <td>The Coming Woman: A ...</td>\n",
       "      <td>Â£17.93</td>\n",
       "      <td>Three</td>\n",
       "      <td>http://books.toscrape.com/media/cache/3d/54/3d...</td>\n",
       "    </tr>\n",
       "    <tr>\n",
       "      <th>9</th>\n",
       "      <td>The Boys in the ...</td>\n",
       "      <td>Â£22.60</td>\n",
       "      <td>Four</td>\n",
       "      <td>http://books.toscrape.com/media/cache/66/88/66...</td>\n",
       "    </tr>\n",
       "    <tr>\n",
       "      <th>10</th>\n",
       "      <td>The Black Maria</td>\n",
       "      <td>Â£52.15</td>\n",
       "      <td>One</td>\n",
       "      <td>http://books.toscrape.com/media/cache/58/46/58...</td>\n",
       "    </tr>\n",
       "    <tr>\n",
       "      <th>11</th>\n",
       "      <td>Starving Hearts (Triangular Trade ...</td>\n",
       "      <td>Â£13.99</td>\n",
       "      <td>Two</td>\n",
       "      <td>http://books.toscrape.com/media/cache/be/f4/be...</td>\n",
       "    </tr>\n",
       "    <tr>\n",
       "      <th>12</th>\n",
       "      <td>Shakespeare's Sonnets</td>\n",
       "      <td>Â£20.66</td>\n",
       "      <td>Four</td>\n",
       "      <td>http://books.toscrape.com/media/cache/10/48/10...</td>\n",
       "    </tr>\n",
       "    <tr>\n",
       "      <th>13</th>\n",
       "      <td>Set Me Free</td>\n",
       "      <td>Â£17.46</td>\n",
       "      <td>Five</td>\n",
       "      <td>http://books.toscrape.com/media/cache/5b/88/5b...</td>\n",
       "    </tr>\n",
       "    <tr>\n",
       "      <th>14</th>\n",
       "      <td>Scott Pilgrim's Precious Little ...</td>\n",
       "      <td>Â£52.29</td>\n",
       "      <td>Five</td>\n",
       "      <td>http://books.toscrape.com/media/cache/94/b1/94...</td>\n",
       "    </tr>\n",
       "    <tr>\n",
       "      <th>15</th>\n",
       "      <td>Rip it Up and ...</td>\n",
       "      <td>Â£35.02</td>\n",
       "      <td>Five</td>\n",
       "      <td>http://books.toscrape.com/media/cache/81/c4/81...</td>\n",
       "    </tr>\n",
       "    <tr>\n",
       "      <th>16</th>\n",
       "      <td>Our Band Could Be ...</td>\n",
       "      <td>Â£57.25</td>\n",
       "      <td>Three</td>\n",
       "      <td>http://books.toscrape.com/media/cache/54/60/54...</td>\n",
       "    </tr>\n",
       "    <tr>\n",
       "      <th>17</th>\n",
       "      <td>Olio</td>\n",
       "      <td>Â£23.88</td>\n",
       "      <td>One</td>\n",
       "      <td>http://books.toscrape.com/media/cache/55/33/55...</td>\n",
       "    </tr>\n",
       "    <tr>\n",
       "      <th>18</th>\n",
       "      <td>Mesaerion: The Best Science ...</td>\n",
       "      <td>Â£37.59</td>\n",
       "      <td>One</td>\n",
       "      <td>http://books.toscrape.com/media/cache/09/a3/09...</td>\n",
       "    </tr>\n",
       "    <tr>\n",
       "      <th>19</th>\n",
       "      <td>Libertarianism for Beginners</td>\n",
       "      <td>Â£51.33</td>\n",
       "      <td>Two</td>\n",
       "      <td>http://books.toscrape.com/media/cache/0b/bc/0b...</td>\n",
       "    </tr>\n",
       "    <tr>\n",
       "      <th>20</th>\n",
       "      <td>It's Only the Himalayas</td>\n",
       "      <td>Â£45.17</td>\n",
       "      <td>Two</td>\n",
       "      <td>http://books.toscrape.com/media/cache/27/a5/27...</td>\n",
       "    </tr>\n",
       "  </tbody>\n",
       "</table>\n",
       "</div>"
      ],
      "text/plain": [
       "                                    Title    Price Ratings  \\\n",
       "1                      A Light in the ...  Â£51.77   Three   \n",
       "2                      Tipping the Velvet  Â£53.74     One   \n",
       "3                              Soumission  Â£50.10     One   \n",
       "4                           Sharp Objects  Â£47.82    Four   \n",
       "5            Sapiens: A Brief History ...  Â£54.23    Five   \n",
       "6                         The Requiem Red  Â£22.65     One   \n",
       "7            The Dirty Little Secrets ...  Â£33.34    Four   \n",
       "8                 The Coming Woman: A ...  Â£17.93   Three   \n",
       "9                     The Boys in the ...  Â£22.60    Four   \n",
       "10                        The Black Maria  Â£52.15     One   \n",
       "11  Starving Hearts (Triangular Trade ...  Â£13.99     Two   \n",
       "12                  Shakespeare's Sonnets  Â£20.66    Four   \n",
       "13                            Set Me Free  Â£17.46    Five   \n",
       "14    Scott Pilgrim's Precious Little ...  Â£52.29    Five   \n",
       "15                      Rip it Up and ...  Â£35.02    Five   \n",
       "16                  Our Band Could Be ...  Â£57.25   Three   \n",
       "17                                   Olio  Â£23.88     One   \n",
       "18        Mesaerion: The Best Science ...  Â£37.59     One   \n",
       "19           Libertarianism for Beginners  Â£51.33     Two   \n",
       "20                It's Only the Himalayas  Â£45.17     Two   \n",
       "\n",
       "                                                  URL  \n",
       "1   http://books.toscrape.com/media/cache/2c/da/2c...  \n",
       "2   http://books.toscrape.com/media/cache/26/0c/26...  \n",
       "3   http://books.toscrape.com/media/cache/3e/ef/3e...  \n",
       "4   http://books.toscrape.com/media/cache/32/51/32...  \n",
       "5   http://books.toscrape.com/media/cache/be/a5/be...  \n",
       "6   http://books.toscrape.com/media/cache/68/33/68...  \n",
       "7   http://books.toscrape.com/media/cache/92/27/92...  \n",
       "8   http://books.toscrape.com/media/cache/3d/54/3d...  \n",
       "9   http://books.toscrape.com/media/cache/66/88/66...  \n",
       "10  http://books.toscrape.com/media/cache/58/46/58...  \n",
       "11  http://books.toscrape.com/media/cache/be/f4/be...  \n",
       "12  http://books.toscrape.com/media/cache/10/48/10...  \n",
       "13  http://books.toscrape.com/media/cache/5b/88/5b...  \n",
       "14  http://books.toscrape.com/media/cache/94/b1/94...  \n",
       "15  http://books.toscrape.com/media/cache/81/c4/81...  \n",
       "16  http://books.toscrape.com/media/cache/54/60/54...  \n",
       "17  http://books.toscrape.com/media/cache/55/33/55...  \n",
       "18  http://books.toscrape.com/media/cache/09/a3/09...  \n",
       "19  http://books.toscrape.com/media/cache/0b/bc/0b...  \n",
       "20  http://books.toscrape.com/media/cache/27/a5/27...  "
      ]
     },
     "execution_count": 20,
     "metadata": {},
     "output_type": "execute_result"
    }
   ],
   "source": [
    "df.index+=1\n",
    "df"
   ]
  },
  {
   "cell_type": "code",
   "execution_count": 21,
   "id": "e56d22eb",
   "metadata": {
    "execution": {
     "iopub.execute_input": "2022-11-13T10:42:02.306841Z",
     "iopub.status.busy": "2022-11-13T10:42:02.306101Z",
     "iopub.status.idle": "2022-11-13T10:42:02.318519Z",
     "shell.execute_reply": "2022-11-13T10:42:02.317245Z"
    },
    "papermill": {
     "duration": 0.026944,
     "end_time": "2022-11-13T10:42:02.321518",
     "exception": false,
     "start_time": "2022-11-13T10:42:02.294574",
     "status": "completed"
    },
    "tags": []
   },
   "outputs": [],
   "source": [
    "df['Price']=df['Price'].str.replace('Â£','')"
   ]
  },
  {
   "cell_type": "code",
   "execution_count": 22,
   "id": "08e45f5c",
   "metadata": {
    "execution": {
     "iopub.execute_input": "2022-11-13T10:42:02.342876Z",
     "iopub.status.busy": "2022-11-13T10:42:02.342413Z",
     "iopub.status.idle": "2022-11-13T10:42:02.350765Z",
     "shell.execute_reply": "2022-11-13T10:42:02.349477Z"
    },
    "papermill": {
     "duration": 0.022213,
     "end_time": "2022-11-13T10:42:02.353324",
     "exception": false,
     "start_time": "2022-11-13T10:42:02.331111",
     "status": "completed"
    },
    "tags": []
   },
   "outputs": [],
   "source": [
    "df['Ratings']=df['Ratings'].replace({'Three':3,'One':1,'Two':2,'Four':4,'Five':5})"
   ]
  },
  {
   "cell_type": "code",
   "execution_count": 23,
   "id": "3d63f839",
   "metadata": {
    "execution": {
     "iopub.execute_input": "2022-11-13T10:42:02.375286Z",
     "iopub.status.busy": "2022-11-13T10:42:02.374752Z",
     "iopub.status.idle": "2022-11-13T10:42:02.393637Z",
     "shell.execute_reply": "2022-11-13T10:42:02.392273Z"
    },
    "papermill": {
     "duration": 0.032965,
     "end_time": "2022-11-13T10:42:02.396372",
     "exception": false,
     "start_time": "2022-11-13T10:42:02.363407",
     "status": "completed"
    },
    "tags": []
   },
   "outputs": [
    {
     "data": {
      "text/html": [
       "<div>\n",
       "<style scoped>\n",
       "    .dataframe tbody tr th:only-of-type {\n",
       "        vertical-align: middle;\n",
       "    }\n",
       "\n",
       "    .dataframe tbody tr th {\n",
       "        vertical-align: top;\n",
       "    }\n",
       "\n",
       "    .dataframe thead th {\n",
       "        text-align: right;\n",
       "    }\n",
       "</style>\n",
       "<table border=\"1\" class=\"dataframe\">\n",
       "  <thead>\n",
       "    <tr style=\"text-align: right;\">\n",
       "      <th></th>\n",
       "      <th>Title</th>\n",
       "      <th>Price</th>\n",
       "      <th>Ratings</th>\n",
       "      <th>URL</th>\n",
       "    </tr>\n",
       "  </thead>\n",
       "  <tbody>\n",
       "    <tr>\n",
       "      <th>16</th>\n",
       "      <td>Our Band Could Be ...</td>\n",
       "      <td>57.25</td>\n",
       "      <td>3</td>\n",
       "      <td>http://books.toscrape.com/media/cache/54/60/54...</td>\n",
       "    </tr>\n",
       "    <tr>\n",
       "      <th>5</th>\n",
       "      <td>Sapiens: A Brief History ...</td>\n",
       "      <td>54.23</td>\n",
       "      <td>5</td>\n",
       "      <td>http://books.toscrape.com/media/cache/be/a5/be...</td>\n",
       "    </tr>\n",
       "    <tr>\n",
       "      <th>2</th>\n",
       "      <td>Tipping the Velvet</td>\n",
       "      <td>53.74</td>\n",
       "      <td>1</td>\n",
       "      <td>http://books.toscrape.com/media/cache/26/0c/26...</td>\n",
       "    </tr>\n",
       "    <tr>\n",
       "      <th>14</th>\n",
       "      <td>Scott Pilgrim's Precious Little ...</td>\n",
       "      <td>52.29</td>\n",
       "      <td>5</td>\n",
       "      <td>http://books.toscrape.com/media/cache/94/b1/94...</td>\n",
       "    </tr>\n",
       "    <tr>\n",
       "      <th>10</th>\n",
       "      <td>The Black Maria</td>\n",
       "      <td>52.15</td>\n",
       "      <td>1</td>\n",
       "      <td>http://books.toscrape.com/media/cache/58/46/58...</td>\n",
       "    </tr>\n",
       "    <tr>\n",
       "      <th>1</th>\n",
       "      <td>A Light in the ...</td>\n",
       "      <td>51.77</td>\n",
       "      <td>3</td>\n",
       "      <td>http://books.toscrape.com/media/cache/2c/da/2c...</td>\n",
       "    </tr>\n",
       "    <tr>\n",
       "      <th>19</th>\n",
       "      <td>Libertarianism for Beginners</td>\n",
       "      <td>51.33</td>\n",
       "      <td>2</td>\n",
       "      <td>http://books.toscrape.com/media/cache/0b/bc/0b...</td>\n",
       "    </tr>\n",
       "    <tr>\n",
       "      <th>3</th>\n",
       "      <td>Soumission</td>\n",
       "      <td>50.10</td>\n",
       "      <td>1</td>\n",
       "      <td>http://books.toscrape.com/media/cache/3e/ef/3e...</td>\n",
       "    </tr>\n",
       "    <tr>\n",
       "      <th>4</th>\n",
       "      <td>Sharp Objects</td>\n",
       "      <td>47.82</td>\n",
       "      <td>4</td>\n",
       "      <td>http://books.toscrape.com/media/cache/32/51/32...</td>\n",
       "    </tr>\n",
       "    <tr>\n",
       "      <th>20</th>\n",
       "      <td>It's Only the Himalayas</td>\n",
       "      <td>45.17</td>\n",
       "      <td>2</td>\n",
       "      <td>http://books.toscrape.com/media/cache/27/a5/27...</td>\n",
       "    </tr>\n",
       "    <tr>\n",
       "      <th>18</th>\n",
       "      <td>Mesaerion: The Best Science ...</td>\n",
       "      <td>37.59</td>\n",
       "      <td>1</td>\n",
       "      <td>http://books.toscrape.com/media/cache/09/a3/09...</td>\n",
       "    </tr>\n",
       "    <tr>\n",
       "      <th>15</th>\n",
       "      <td>Rip it Up and ...</td>\n",
       "      <td>35.02</td>\n",
       "      <td>5</td>\n",
       "      <td>http://books.toscrape.com/media/cache/81/c4/81...</td>\n",
       "    </tr>\n",
       "    <tr>\n",
       "      <th>7</th>\n",
       "      <td>The Dirty Little Secrets ...</td>\n",
       "      <td>33.34</td>\n",
       "      <td>4</td>\n",
       "      <td>http://books.toscrape.com/media/cache/92/27/92...</td>\n",
       "    </tr>\n",
       "    <tr>\n",
       "      <th>17</th>\n",
       "      <td>Olio</td>\n",
       "      <td>23.88</td>\n",
       "      <td>1</td>\n",
       "      <td>http://books.toscrape.com/media/cache/55/33/55...</td>\n",
       "    </tr>\n",
       "    <tr>\n",
       "      <th>6</th>\n",
       "      <td>The Requiem Red</td>\n",
       "      <td>22.65</td>\n",
       "      <td>1</td>\n",
       "      <td>http://books.toscrape.com/media/cache/68/33/68...</td>\n",
       "    </tr>\n",
       "    <tr>\n",
       "      <th>9</th>\n",
       "      <td>The Boys in the ...</td>\n",
       "      <td>22.60</td>\n",
       "      <td>4</td>\n",
       "      <td>http://books.toscrape.com/media/cache/66/88/66...</td>\n",
       "    </tr>\n",
       "    <tr>\n",
       "      <th>12</th>\n",
       "      <td>Shakespeare's Sonnets</td>\n",
       "      <td>20.66</td>\n",
       "      <td>4</td>\n",
       "      <td>http://books.toscrape.com/media/cache/10/48/10...</td>\n",
       "    </tr>\n",
       "    <tr>\n",
       "      <th>8</th>\n",
       "      <td>The Coming Woman: A ...</td>\n",
       "      <td>17.93</td>\n",
       "      <td>3</td>\n",
       "      <td>http://books.toscrape.com/media/cache/3d/54/3d...</td>\n",
       "    </tr>\n",
       "    <tr>\n",
       "      <th>13</th>\n",
       "      <td>Set Me Free</td>\n",
       "      <td>17.46</td>\n",
       "      <td>5</td>\n",
       "      <td>http://books.toscrape.com/media/cache/5b/88/5b...</td>\n",
       "    </tr>\n",
       "    <tr>\n",
       "      <th>11</th>\n",
       "      <td>Starving Hearts (Triangular Trade ...</td>\n",
       "      <td>13.99</td>\n",
       "      <td>2</td>\n",
       "      <td>http://books.toscrape.com/media/cache/be/f4/be...</td>\n",
       "    </tr>\n",
       "  </tbody>\n",
       "</table>\n",
       "</div>"
      ],
      "text/plain": [
       "                                    Title  Price  Ratings  \\\n",
       "16                  Our Band Could Be ...  57.25        3   \n",
       "5            Sapiens: A Brief History ...  54.23        5   \n",
       "2                      Tipping the Velvet  53.74        1   \n",
       "14    Scott Pilgrim's Precious Little ...  52.29        5   \n",
       "10                        The Black Maria  52.15        1   \n",
       "1                      A Light in the ...  51.77        3   \n",
       "19           Libertarianism for Beginners  51.33        2   \n",
       "3                              Soumission  50.10        1   \n",
       "4                           Sharp Objects  47.82        4   \n",
       "20                It's Only the Himalayas  45.17        2   \n",
       "18        Mesaerion: The Best Science ...  37.59        1   \n",
       "15                      Rip it Up and ...  35.02        5   \n",
       "7            The Dirty Little Secrets ...  33.34        4   \n",
       "17                                   Olio  23.88        1   \n",
       "6                         The Requiem Red  22.65        1   \n",
       "9                     The Boys in the ...  22.60        4   \n",
       "12                  Shakespeare's Sonnets  20.66        4   \n",
       "8                 The Coming Woman: A ...  17.93        3   \n",
       "13                            Set Me Free  17.46        5   \n",
       "11  Starving Hearts (Triangular Trade ...  13.99        2   \n",
       "\n",
       "                                                  URL  \n",
       "16  http://books.toscrape.com/media/cache/54/60/54...  \n",
       "5   http://books.toscrape.com/media/cache/be/a5/be...  \n",
       "2   http://books.toscrape.com/media/cache/26/0c/26...  \n",
       "14  http://books.toscrape.com/media/cache/94/b1/94...  \n",
       "10  http://books.toscrape.com/media/cache/58/46/58...  \n",
       "1   http://books.toscrape.com/media/cache/2c/da/2c...  \n",
       "19  http://books.toscrape.com/media/cache/0b/bc/0b...  \n",
       "3   http://books.toscrape.com/media/cache/3e/ef/3e...  \n",
       "4   http://books.toscrape.com/media/cache/32/51/32...  \n",
       "20  http://books.toscrape.com/media/cache/27/a5/27...  \n",
       "18  http://books.toscrape.com/media/cache/09/a3/09...  \n",
       "15  http://books.toscrape.com/media/cache/81/c4/81...  \n",
       "7   http://books.toscrape.com/media/cache/92/27/92...  \n",
       "17  http://books.toscrape.com/media/cache/55/33/55...  \n",
       "6   http://books.toscrape.com/media/cache/68/33/68...  \n",
       "9   http://books.toscrape.com/media/cache/66/88/66...  \n",
       "12  http://books.toscrape.com/media/cache/10/48/10...  \n",
       "8   http://books.toscrape.com/media/cache/3d/54/3d...  \n",
       "13  http://books.toscrape.com/media/cache/5b/88/5b...  \n",
       "11  http://books.toscrape.com/media/cache/be/f4/be...  "
      ]
     },
     "execution_count": 23,
     "metadata": {},
     "output_type": "execute_result"
    }
   ],
   "source": [
    "df.sort_values(by='Price',ascending=False)"
   ]
  },
  {
   "cell_type": "code",
   "execution_count": 24,
   "id": "d442cb87",
   "metadata": {
    "execution": {
     "iopub.execute_input": "2022-11-13T10:42:02.418437Z",
     "iopub.status.busy": "2022-11-13T10:42:02.417941Z",
     "iopub.status.idle": "2022-11-13T10:42:02.426784Z",
     "shell.execute_reply": "2022-11-13T10:42:02.425792Z"
    },
    "papermill": {
     "duration": 0.022507,
     "end_time": "2022-11-13T10:42:02.428924",
     "exception": false,
     "start_time": "2022-11-13T10:42:02.406417",
     "status": "completed"
    },
    "tags": []
   },
   "outputs": [
    {
     "data": {
      "text/plain": [
       "Title      object\n",
       "Price      object\n",
       "Ratings     int64\n",
       "URL        object\n",
       "dtype: object"
      ]
     },
     "execution_count": 24,
     "metadata": {},
     "output_type": "execute_result"
    }
   ],
   "source": [
    "df.dtypes"
   ]
  },
  {
   "cell_type": "code",
   "execution_count": 25,
   "id": "782d5f0b",
   "metadata": {
    "execution": {
     "iopub.execute_input": "2022-11-13T10:42:02.451852Z",
     "iopub.status.busy": "2022-11-13T10:42:02.450586Z",
     "iopub.status.idle": "2022-11-13T10:42:02.457662Z",
     "shell.execute_reply": "2022-11-13T10:42:02.456707Z"
    },
    "papermill": {
     "duration": 0.020944,
     "end_time": "2022-11-13T10:42:02.459946",
     "exception": false,
     "start_time": "2022-11-13T10:42:02.439002",
     "status": "completed"
    },
    "tags": []
   },
   "outputs": [],
   "source": [
    "df['Price']=df['Price'].astype(float)"
   ]
  },
  {
   "cell_type": "code",
   "execution_count": 26,
   "id": "fa59324f",
   "metadata": {
    "execution": {
     "iopub.execute_input": "2022-11-13T10:42:02.483082Z",
     "iopub.status.busy": "2022-11-13T10:42:02.481818Z",
     "iopub.status.idle": "2022-11-13T10:42:02.498146Z",
     "shell.execute_reply": "2022-11-13T10:42:02.496827Z"
    },
    "papermill": {
     "duration": 0.030882,
     "end_time": "2022-11-13T10:42:02.501117",
     "exception": false,
     "start_time": "2022-11-13T10:42:02.470235",
     "status": "completed"
    },
    "tags": []
   },
   "outputs": [
    {
     "data": {
      "text/html": [
       "<div>\n",
       "<style scoped>\n",
       "    .dataframe tbody tr th:only-of-type {\n",
       "        vertical-align: middle;\n",
       "    }\n",
       "\n",
       "    .dataframe tbody tr th {\n",
       "        vertical-align: top;\n",
       "    }\n",
       "\n",
       "    .dataframe thead th {\n",
       "        text-align: right;\n",
       "    }\n",
       "</style>\n",
       "<table border=\"1\" class=\"dataframe\">\n",
       "  <thead>\n",
       "    <tr style=\"text-align: right;\">\n",
       "      <th></th>\n",
       "      <th>Price</th>\n",
       "      <th>Ratings</th>\n",
       "    </tr>\n",
       "  </thead>\n",
       "  <tbody>\n",
       "    <tr>\n",
       "      <th>Price</th>\n",
       "      <td>1.000000</td>\n",
       "      <td>-0.075857</td>\n",
       "    </tr>\n",
       "    <tr>\n",
       "      <th>Ratings</th>\n",
       "      <td>-0.075857</td>\n",
       "      <td>1.000000</td>\n",
       "    </tr>\n",
       "  </tbody>\n",
       "</table>\n",
       "</div>"
      ],
      "text/plain": [
       "            Price   Ratings\n",
       "Price    1.000000 -0.075857\n",
       "Ratings -0.075857  1.000000"
      ]
     },
     "execution_count": 26,
     "metadata": {},
     "output_type": "execute_result"
    }
   ],
   "source": [
    "df.corr()"
   ]
  },
  {
   "cell_type": "code",
   "execution_count": 27,
   "id": "b95c1d60",
   "metadata": {
    "execution": {
     "iopub.execute_input": "2022-11-13T10:42:02.524455Z",
     "iopub.status.busy": "2022-11-13T10:42:02.523959Z",
     "iopub.status.idle": "2022-11-13T10:42:03.979045Z",
     "shell.execute_reply": "2022-11-13T10:42:03.978101Z"
    },
    "papermill": {
     "duration": 1.469352,
     "end_time": "2022-11-13T10:42:03.981247",
     "exception": false,
     "start_time": "2022-11-13T10:42:02.511895",
     "status": "completed"
    },
    "tags": []
   },
   "outputs": [
    {
     "data": {
      "text/plain": [
       "<AxesSubplot:>"
      ]
     },
     "execution_count": 27,
     "metadata": {},
     "output_type": "execute_result"
    },
    {
     "data": {
      "image/png": "[encoded data removed]",
      "text/plain": [
       "<Figure size 360x360 with 2 Axes>"
      ]
     },
     "metadata": {
      "needs_background": "light"
     },
     "output_type": "display_data"
    }
   ],
   "source": [
    "import matplotlib.pyplot as plt\n",
    "import seaborn as sns\n",
    "\n",
    "\n",
    "plt.figure(figsize=(5,5))\n",
    "sns.heatmap(df.corr())"
   ]
  }
 ],
 "metadata": {
  "kernelspec": {
   "display_name": "Python 3",
   "language": "python",
   "name": "python3"
  },
  "language_info": {
   "codemirror_mode": {
    "name": "ipython",
    "version": 3
   },
   "file_extension": ".py",
   "mimetype": "text/x-python",
   "name": "python",
   "nbconvert_exporter": "python",
   "pygments_lexer": "ipython3",
   "version": "3.7.12"
  },
  "papermill": {
   "default_parameters": {},
   "duration": 41.433259,
   "end_time": "2022-11-13T10:42:05.116403",
   "environment_variables": {},
   "exception": null,
   "input_path": "__notebook__.ipynb",
   "output_path": "__notebook__.ipynb",
   "parameters": {},
   "start_time": "2022-11-13T10:41:23.683144",
   "version": "2.3.4"
  }
 },
 "nbformat": 4,
 "nbformat_minor": 5
}
